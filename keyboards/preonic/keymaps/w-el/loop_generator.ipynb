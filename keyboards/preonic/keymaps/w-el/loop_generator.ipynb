{
 "cells": [
  {
   "cell_type": "code",
   "execution_count": 3,
   "metadata": {},
   "outputs": [],
   "source": [
    "input = \"\"\"//set win 1 as excel window and win 2 as the epic window\n",
    "            //In excel: highlight cell of patient UID\n",
    "            SS_LCTL(\"c\") SS_DELAY(100) SS_LGUI(\"m\") SS_DELAY(100)\n",
    "            //Switch to epic and open orders only enounter\n",
    "            SS_LGUI(\"2\") SS_DELAY(100) SS_LGUI(SS_TAP(X_UP)) SS_DELAY(100) SS_LCTL(\"w\") SS_DELAY(1000) SS_LCTL(\"5\")\n",
    "            //Fill in the details for orders only encounter\n",
    "            //this next line is  tabbing to the CSN x10¸\n",
    "            SS_TAP(X_TAB) SS_TAP(X_TAB) SS_TAP(X_TAB) SS_TAP(X_TAB) SS_TAP(X_TAB) SS_TAP(X_TAB) //Clinic\n",
    "            SS_TAP(X_TAB) SS_TAP(X_TAB) SS_TAP(X_TAB) SS_TAP(X_TAB)\n",
    "            //SS_LSFT(SS_TAP(X_TAB) SS_TAP(X_TAB) SS_TAP(X_TAB) SS_TAP(X_TAB) SS_TAP(X_TAB) SS_TAP(X_TAB) SS_TAP(X_TAB)) //Corp laptop\n",
    "\n",
    "            // Pasting in the CSN and then opening the orders only encounter\n",
    "            SS_DELAY(1000) SS_LCTL(\"v\") SS_DELAY(1000) SS_LALT(\"fs\") SS_DELAY(1000)\n",
    "            //switching back to excel to copy the date\n",
    "            SS_LGUI(\"1\") SS_DELAY(100) SS_TAP(X_ESC) SS_DELAY(100) SS_LCTL(SS_TAP(X_RGHT)) SS_DELAY(100) SS_LCTL(\"c\") SS_DELAY(100)\n",
    "            //Delay excel -> epic opening orders field\n",
    "            SS_DELAY(6000)\n",
    "            //switch back to epic and open up\n",
    "            SS_LGUI(\"m\") SS_DELAY(100) SS_LGUI(\"2\") SS_DELAY(100)\n",
    "            SS_LGUI(SS_TAP(X_UP))SS_DELAY(100) SS_LGUI(SS_TAP(X_UP))SS_DELAY(100) SS_LGUI(SS_TAP(X_UP))SS_DELAY(100) SS_LGUI(SS_TAP(X_UP))SS_DELAY(100)\n",
    "            SS_LGUI(SS_TAP(X_UP))SS_DELAY(1000)\n",
    "            SS_LCTL(\"o\") SS_DELAY(100) SS_LCTL(\"o\") SS_DELAY(100) SS_LCTL(\"o\") SS_DELAY(100) SS_LCTL(\"o\") SS_DELAY(100) SS_LCTL(\"o\") SS_DELAY(100)\n",
    "            SS_LCTL(\"o\") SS_DELAY(100)\n",
    "\n",
    "            //at order specific section\n",
    "            \"hypertensive panel\" SS_DELAY(200) SS_TAP(X_ENTER) SS_DELAY(2000)\n",
    "            SS_LALT(\"f\") SS_DELAY(1000) SS_TAP(X_ENTER) SS_DELAY(1000)\n",
    "            SS_LCTL(\"v\") //paste back the date\n",
    "            SS_DELAY(2000)\n",
    "\n",
    "            //sending order\n",
    "            SS_LALT(\"s\") SS_DELAY(1000)\n",
    "            SS_LCTL(SS_LSFT(\"e\")) SS_DELAY(1000)\n",
    "\n",
    "            //MOVING BACK TO EXCEL AND SORTING THE FILE\n",
    "            //switch to excel\n",
    "            // SS_LGUI(\"m\") SS_LGUI(\"2\") SS_DELAY(1000) SS_LGUI(SS_TAP(X_UP)) SS_DELAY(100) SS_LGUI(SS_TAP(X_UP)) SS_DELAY(100) SS_LGUI(SS_TAP(X_UP)) SS_DELAY(100) SS_LGUI(SS_TAP(X_UP)) SS_DELAY(100) SS_LGUI(SS_TAP(X_UP))\n",
    "            // SS_DELAY(1000)\n",
    "            SS_LGUI(\"1\") SS_DELAY(1000) SS_TAP(X_ESC) SS_DELAY(100)\n",
    "            //add comment of what lab it is\n",
    "            SS_TAP(X_RGHT) \"HTN 01 - loop start\"\n",
    "            //shift cursor back to left most cell\n",
    "            SS_LCTL(SS_TAP(X_LEFT)) SS_DELAY(100)\n",
    "            // //select row\n",
    "            SS_LSFT(SS_TAP(X_SPC))\n",
    "            //highlight row\n",
    "            SS_LALT(\"h\") SS_DELAY(100) \"h\" SS_TAP(X_UP) SS_TAP(X_UP) SS_TAP(X_UP) SS_DELAY(100) SS_TAP(X_ENTER) SS_DELAY(100)\n",
    "            //move down cell to next row\n",
    "            SS_TAP(X_DOWN)\n",
    "            //save the file\n",
    "            // SS_LCTL(\"s\")\n",
    "            SS_DELAY(2000)\"\"\""
   ]
  },
  {
   "cell_type": "code",
   "execution_count": null,
   "metadata": {},
   "outputs": [],
   "source": [
    "loop_name = \"HTN\"\n",
    "loop_count = 0 "
   ]
  },
  {
   "cell_type": "code",
   "execution_count": 18,
   "metadata": {},
   "outputs": [
    {
     "data": {
      "text/plain": [
       "'HTN 01 - loop start\"\\n            //shift cursor back to left most cell\\n            SS_LCTL(SS_TAP(X_LEFT)) SS_DELAY(100)\\n            // //select row\\n            SS_LSFT(SS_TAP(X_SPC))\\n            //highlight row\\n            SS_LALT(\"h\") SS_DELAY(100) \"h\" SS_TAP(X_UP) SS_TAP(X_UP) SS_TAP(X_UP) SS_DELAY(100) SS_TAP(X_ENTER) SS_DELAY(100)\\n            //move down cell to next row\\n            SS_TAP(X_DOWN)\\n            //save the file\\n            // SS_LCTL(\"s\")\\n            SS_DELAY(2000)'"
      ]
     },
     "execution_count": 18,
     "metadata": {},
     "output_type": "execute_result"
    }
   ],
   "source": [
    "input[input.find('''//add comment of what lab it is\n",
    "            SS_TAP(X_RGHT) \"''') + len('''//add comment of what lab it is\n",
    "            SS_TAP(X_RGHT) \"'''):]"
   ]
  },
  {
   "cell_type": "code",
   "execution_count": null,
   "metadata": {},
   "outputs": [],
   "source": []
  }
 ],
 "metadata": {
  "kernelspec": {
   "display_name": "Python 3.10.8 64-bit",
   "language": "python",
   "name": "python3"
  },
  "language_info": {
   "codemirror_mode": {
    "name": "ipython",
    "version": 3
   },
   "file_extension": ".py",
   "mimetype": "text/x-python",
   "name": "python",
   "nbconvert_exporter": "python",
   "pygments_lexer": "ipython3",
   "version": "3.10.8"
  },
  "orig_nbformat": 4,
  "vscode": {
   "interpreter": {
    "hash": "b0fa6594d8f4cbf19f97940f81e996739fb7646882a419484c72d19e05852a7e"
   }
  }
 },
 "nbformat": 4,
 "nbformat_minor": 2
}
